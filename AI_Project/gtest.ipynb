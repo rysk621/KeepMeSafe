{
 "cells": [
  {
   "cell_type": "code",
   "execution_count": 1,
   "metadata": {},
   "outputs": [
    {
     "data": {
      "text/plain": [
       "'c:\\\\Users\\\\user\\\\KeepMeSafe\\\\AI_Project'"
      ]
     },
     "execution_count": 1,
     "metadata": {},
     "output_type": "execute_result"
    }
   ],
   "source": [
    "pwd"
   ]
  },
  {
   "cell_type": "code",
   "execution_count": 28,
   "metadata": {},
   "outputs": [
    {
     "name": "stdout",
     "output_type": "stream",
     "text": [
      "CUDA is not available. Using CPU.\n"
     ]
    }
   ],
   "source": [
    "import torch\n",
    "\n",
    "if torch.cuda.is_available():\n",
    "    device = torch.device(\"cuda\")\n",
    "    print(\"CUDA is available. Using GPU.\")\n",
    "else:\n",
    "    device = torch.device(\"cpu\")        \n",
    "    print(\"CUDA is not available. Using CPU.\")\n"
   ]
  },
  {
   "cell_type": "code",
   "execution_count": 50,
   "metadata": {},
   "outputs": [
    {
     "name": "stdout",
     "output_type": "stream",
     "text": [
      "재구성 오차: 0.00997199211269617\n"
     ]
    }
   ],
   "source": [
    "import numpy as np\n",
    "import pandas as pd\n",
    "import torch\n",
    "import torch.nn as nn\n",
    "from sklearn.preprocessing import MinMaxScaler\n",
    "from torch.utils.data import DataLoader, TensorDataset\n",
    "import matplotlib.pyplot as plt  # 데이터 시각화를 위한 라이브러리\n",
    "\n",
    "# 가정: 'real.csv' 파일에 분석할 실제 데이터가 있으며,\n",
    "# 여기서는 이미 준비된 10개의 데이터를 사용한다고 가정합니다.\n",
    "\n",
    "# 데이터 불러오기 및 전처리 (10개 데이터 예시)\n",
    "df = pd.read_csv(\"../data/user_code_total/user_code_006.csv\")\n",
    "# df['RegisterDate'] = pd.to_datetime(df['RegisterDate'])\n",
    "# df.sort_values(by='RegisterDate', inplace=True)\n",
    "# df.fillna(method='ffill', inplace=True)\n",
    "df = df.tail(10)  # 최근 10개 데이터만 사용\n",
    "\n",
    "# # 심박수 데이터 추출 및 스케일링\n",
    "# heartbeat_data = df['Heartbeat'].values.reshape(-1, 1)\n",
    "# scaler = MinMaxScaler(feature_range=(0, 1))\n",
    "# heartbeat_data_scaled = scaler.fit_transform(heartbeat_data)\n",
    "\n",
    "\n",
    "# 심박수, 온도, 외부 온도 데이터 추출 및 스케일링\n",
    "features_data = df[['Heartbeat']].values\n",
    "scaler = MinMaxScaler(feature_range=(0, 1))\n",
    "features_data_scaled = scaler.fit_transform(features_data)\n",
    "\n",
    "# PyTorch 텐서로 변환 및 차원 조정\n",
    "# X = torch.Tensor(heartbeat_data_scaled).unsqueeze(2)  # [1, 10, 1] 형태로 변환\n",
    "X = torch.Tensor(features_data_scaled).unsqueeze(1)  # [10, 1, 3] 형태로 변환\n",
    "\n",
    "\n",
    "# LSTM 기반 오토인코더 모델 정의 (변경 없음)\n",
    "class Autoencoder(nn.Module):\n",
    "    def __init__(self, input_dim, hidden_dim, num_layers):\n",
    "        super(Autoencoder, self).__init__()\n",
    "        self.encoder = nn.LSTM(input_dim, hidden_dim, num_layers, batch_first=True)\n",
    "        self.decoder = nn.LSTM(hidden_dim, input_dim, num_layers, batch_first=True)\n",
    "        self.linear = nn.Linear(input_dim, input_dim)\n",
    "\n",
    "    def forward(self, x):\n",
    "        _, (hn, _) = self.encoder(x)\n",
    "        hn = hn[-1].unsqueeze(0)\n",
    "        repeated_hn = hn.repeat(1, x.size(1), 1)\n",
    "        decoded, _ = self.decoder(repeated_hn)\n",
    "        decoded = decoded.contiguous().view(-1, x.size(2))\n",
    "        decoded = self.linear(decoded)\n",
    "        return decoded.view(x.size(0), x.size(1), -1)\n",
    "\n",
    "# 모델 불러오기 (가정: 학습된 모델이 'best_model.pth'에 저장되어 있음)\n",
    "model_path = './trainedModel/best_model_user_code_6.pth'\n",
    "model = Autoencoder(input_dim=1, hidden_dim=50, num_layers=2).to(device) #input-dim 1->3\n",
    "model.load_state_dict(torch.load(model_path, map_location=torch.device('cpu')))\n",
    "model.eval()\n",
    "\n",
    "# 데이터에 대한 예측 수행 및 재구성 오차 계산\n",
    "criterion = torch.nn.MSELoss()  # 평균 제곱 오차 손실 함수\n",
    "with torch.no_grad():\n",
    "    outputs = model(X)\n",
    "    reconstruction_errors = criterion(outputs, X).item()\n",
    "\n",
    "print(f'재구성 오차: {reconstruction_errors}')\n",
    "\n",
    "# 재구성 오차를 기반으로 필요한 분석 수행\n",
    "# 예를 들어, 특정 임계값을 기반으로 이상치 판단 등\n"
   ]
  },
  {
   "cell_type": "code",
   "execution_count": 51,
   "metadata": {},
   "outputs": [
    {
     "data": {
      "text/html": [
       "<div>\n",
       "<style scoped>\n",
       "    .dataframe tbody tr th:only-of-type {\n",
       "        vertical-align: middle;\n",
       "    }\n",
       "\n",
       "    .dataframe tbody tr th {\n",
       "        vertical-align: top;\n",
       "    }\n",
       "\n",
       "    .dataframe thead th {\n",
       "        text-align: right;\n",
       "    }\n",
       "</style>\n",
       "<table border=\"1\" class=\"dataframe\">\n",
       "  <thead>\n",
       "    <tr style=\"text-align: right;\">\n",
       "      <th></th>\n",
       "      <th>No</th>\n",
       "      <th>WorkDate</th>\n",
       "      <th>UserCode</th>\n",
       "      <th>Heartbeat</th>\n",
       "      <th>Temperature</th>\n",
       "      <th>OutsideTemperature</th>\n",
       "      <th>RegisterDate</th>\n",
       "    </tr>\n",
       "  </thead>\n",
       "  <tbody>\n",
       "    <tr>\n",
       "      <th>29637</th>\n",
       "      <td>21111021</td>\n",
       "      <td>20231114</td>\n",
       "      <td>6</td>\n",
       "      <td>93</td>\n",
       "      <td>32.554306</td>\n",
       "      <td>34</td>\n",
       "      <td>2023-11-14 15:14</td>\n",
       "    </tr>\n",
       "    <tr>\n",
       "      <th>29638</th>\n",
       "      <td>21111032</td>\n",
       "      <td>20231114</td>\n",
       "      <td>6</td>\n",
       "      <td>92</td>\n",
       "      <td>32.554306</td>\n",
       "      <td>34</td>\n",
       "      <td>2023-11-14 15:14</td>\n",
       "    </tr>\n",
       "    <tr>\n",
       "      <th>29639</th>\n",
       "      <td>21111042</td>\n",
       "      <td>20231114</td>\n",
       "      <td>6</td>\n",
       "      <td>92</td>\n",
       "      <td>32.554306</td>\n",
       "      <td>34</td>\n",
       "      <td>2023-11-14 15:14</td>\n",
       "    </tr>\n",
       "    <tr>\n",
       "      <th>29640</th>\n",
       "      <td>21111049</td>\n",
       "      <td>20231114</td>\n",
       "      <td>6</td>\n",
       "      <td>93</td>\n",
       "      <td>32.554306</td>\n",
       "      <td>34</td>\n",
       "      <td>2023-11-14 15:14</td>\n",
       "    </tr>\n",
       "    <tr>\n",
       "      <th>29641</th>\n",
       "      <td>21111066</td>\n",
       "      <td>20231114</td>\n",
       "      <td>6</td>\n",
       "      <td>93</td>\n",
       "      <td>32.266605</td>\n",
       "      <td>34</td>\n",
       "      <td>2023-11-14 15:14</td>\n",
       "    </tr>\n",
       "    <tr>\n",
       "      <th>29642</th>\n",
       "      <td>21111082</td>\n",
       "      <td>20231114</td>\n",
       "      <td>6</td>\n",
       "      <td>93</td>\n",
       "      <td>32.266605</td>\n",
       "      <td>34</td>\n",
       "      <td>2023-11-14 15:14</td>\n",
       "    </tr>\n",
       "    <tr>\n",
       "      <th>29643</th>\n",
       "      <td>21111098</td>\n",
       "      <td>20231114</td>\n",
       "      <td>6</td>\n",
       "      <td>93</td>\n",
       "      <td>32.266605</td>\n",
       "      <td>34</td>\n",
       "      <td>2023-11-14 15:14</td>\n",
       "    </tr>\n",
       "    <tr>\n",
       "      <th>29644</th>\n",
       "      <td>21111115</td>\n",
       "      <td>20231114</td>\n",
       "      <td>6</td>\n",
       "      <td>93</td>\n",
       "      <td>32.266605</td>\n",
       "      <td>34</td>\n",
       "      <td>2023-11-14 15:14</td>\n",
       "    </tr>\n",
       "    <tr>\n",
       "      <th>29645</th>\n",
       "      <td>21111139</td>\n",
       "      <td>20231114</td>\n",
       "      <td>6</td>\n",
       "      <td>94</td>\n",
       "      <td>29.226099</td>\n",
       "      <td>34</td>\n",
       "      <td>2023-11-14 15:14</td>\n",
       "    </tr>\n",
       "    <tr>\n",
       "      <th>29646</th>\n",
       "      <td>21111149</td>\n",
       "      <td>20231114</td>\n",
       "      <td>6</td>\n",
       "      <td>93</td>\n",
       "      <td>29.226099</td>\n",
       "      <td>34</td>\n",
       "      <td>2023-11-14 15:14</td>\n",
       "    </tr>\n",
       "  </tbody>\n",
       "</table>\n",
       "</div>"
      ],
      "text/plain": [
       "             No  WorkDate  UserCode  Heartbeat  Temperature  \\\n",
       "29637  21111021  20231114         6         93    32.554306   \n",
       "29638  21111032  20231114         6         92    32.554306   \n",
       "29639  21111042  20231114         6         92    32.554306   \n",
       "29640  21111049  20231114         6         93    32.554306   \n",
       "29641  21111066  20231114         6         93    32.266605   \n",
       "29642  21111082  20231114         6         93    32.266605   \n",
       "29643  21111098  20231114         6         93    32.266605   \n",
       "29644  21111115  20231114         6         93    32.266605   \n",
       "29645  21111139  20231114         6         94    29.226099   \n",
       "29646  21111149  20231114         6         93    29.226099   \n",
       "\n",
       "       OutsideTemperature      RegisterDate  \n",
       "29637                  34  2023-11-14 15:14  \n",
       "29638                  34  2023-11-14 15:14  \n",
       "29639                  34  2023-11-14 15:14  \n",
       "29640                  34  2023-11-14 15:14  \n",
       "29641                  34  2023-11-14 15:14  \n",
       "29642                  34  2023-11-14 15:14  \n",
       "29643                  34  2023-11-14 15:14  \n",
       "29644                  34  2023-11-14 15:14  \n",
       "29645                  34  2023-11-14 15:14  \n",
       "29646                  34  2023-11-14 15:14  "
      ]
     },
     "execution_count": 51,
     "metadata": {},
     "output_type": "execute_result"
    }
   ],
   "source": [
    "df.tail(10)"
   ]
  },
  {
   "cell_type": "code",
   "execution_count": 52,
   "metadata": {},
   "outputs": [
    {
     "data": {
      "image/png": "[encoded data removed]",
      "text/plain": [
       "<Figure size 640x480 with 1 Axes>"
      ]
     },
     "metadata": {},
     "output_type": "display_data"
    }
   ],
   "source": [
    "# 재구성 오차 계산\n",
    "criterion = torch.nn.MSELoss()\n",
    "reconstruction_errors = []\n",
    "\n",
    "with torch.no_grad():\n",
    "    outputs = model(X)\n",
    "    for i in range(X.size(0)):\n",
    "        loss = criterion(outputs[i], X[i]).item()\n",
    "        reconstruction_errors.append(loss)\n",
    "\n",
    "# 임계값 설정 (이전에 정의한 방식을 그대로 사용)\n",
    "mean_reconstruction_error = np.mean(reconstruction_errors)\n",
    "std_reconstruction_error = np.std(reconstruction_errors)\n",
    "threshold = mean_reconstruction_error + 2 * std_reconstruction_error\n",
    "\n",
    "# 재구성 오차 시각화\n",
    "plt.hist(reconstruction_errors, bins=50, alpha=0.7, color='blue', label='Reconstruction errors')\n",
    "plt.axvline(threshold, color='red', linestyle='dashed', linewidth=2, label='Threshold')\n",
    "plt.title('Histogram of Reconstruction Errors')\n",
    "plt.xlabel('Reconstruction error')\n",
    "plt.ylabel('Frequency')\n",
    "plt.legend()\n",
    "plt.show()"
   ]
  },
  {
   "cell_type": "code",
   "execution_count": 53,
   "metadata": {},
   "outputs": [
    {
     "data": {
      "image/png": "[encoded data removed]",
      "text/plain": [
       "<Figure size 1000x600 with 1 Axes>"
      ]
     },
     "metadata": {},
     "output_type": "display_data"
    }
   ],
   "source": [
    "import matplotlib.pyplot as plt\n",
    "\n",
    "# 예측된 'Heartbeat' 데이터 스케일 되돌리기\n",
    "predicted_heartbeat = outputs.squeeze(2).detach().numpy()  # 모델 출력을 numpy 배열로 변환\n",
    "predicted_heartbeat_scaled = scaler.inverse_transform(predicted_heartbeat)  # MinMaxScaler를 사용해 원본 스케일로 변환\n",
    "\n",
    "# 원본 'Heartbeat' 데이터\n",
    "original_heartbeat = df['Heartbeat'].values\n",
    "\n",
    "# 그래프 그리기\n",
    "plt.figure(figsize=(10, 6))\n",
    "\n",
    "# 원본 'Heartbeat' 데이터 그래프\n",
    "plt.plot(original_heartbeat, label='Input', color='blue')\n",
    "\n",
    "# 예측된 'Heartbeat' 데이터 그래프\n",
    "plt.plot(predicted_heartbeat_scaled, label='Reconstruction', color='red', linestyle='--')\n",
    "\n",
    "plt.title('AutoEncoder')\n",
    "plt.xlabel('Index')\n",
    "plt.ylabel('Heartbeat Value')\n",
    "plt.legend()\n",
    "plt.show()\n"
   ]
  },
  {
   "cell_type": "code",
   "execution_count": 54,
   "metadata": {},
   "outputs": [
    {
     "name": "stdout",
     "output_type": "stream",
     "text": [
      "    status  worker_id\n",
      "0     SAFE          6\n",
      "1     SAFE          6\n",
      "2  CAUTION          6\n",
      "3     SAFE          6\n",
      "4     SAFE          6\n",
      "5     SAFE          6\n",
      "6     SAFE          6\n",
      "7     SAFE          6\n",
      "8     SAFE          6\n",
      "9     SAFE          6\n"
     ]
    }
   ],
   "source": [
    "# 재구성 오차를 기반으로 이상치를 식별합니다.\n",
    "anomalies = [i for i, error in enumerate(reconstruction_errors) if error > threshold]\n",
    "\n",
    "# 결과 DataFrame 초기화\n",
    "results = pd.DataFrame({\n",
    "    'status': ['SAFE'] * len(df),  # 초기 상태를 'SAFE'로 설정\n",
    "    'worker_id': df['UserCode'].values  # 'UserCode'를 'worker_id'로 사용\n",
    "})\n",
    "\n",
    "# 이상치에 대한 상태를 'CAUTION'으로 업데이트\n",
    "for idx in anomalies:\n",
    "    if idx < len(results):  # 인덱스가 결과 DataFrame의 범위 내에 있는지 확인\n",
    "        results.at[idx, 'status'] = 'CAUTION'\n",
    "        \n",
    "print(results)"
   ]
  },
  {
   "cell_type": "code",
   "execution_count": 55,
   "metadata": {},
   "outputs": [
    {
     "name": "stdout",
     "output_type": "stream",
     "text": [
      "{'status': 'CAUTION', 'worker_id': 6}\n"
     ]
    }
   ],
   "source": [
    "# 'status' 열에서 'CAUTION'이 하나라도 있는지 검사\n",
    "if 'CAUTION' in results['status'].values:\n",
    "    overall_status = 'CAUTION'\n",
    "else:\n",
    "    overall_status = 'SAFE'\n",
    "\n",
    "# JSON 형식으로 결과 반환\n",
    "result = {\n",
    "    'status': overall_status,\n",
    "    'worker_id': df['UserCode'].values[0]  # 리스트로 감싸 단일 값으로 설정\n",
    "}\n",
    "\n",
    "print(result)"
   ]
  },
  {
   "cell_type": "code",
   "execution_count": null,
   "metadata": {},
   "outputs": [],
   "source": []
  },
  {
   "cell_type": "code",
   "execution_count": null,
   "metadata": {},
   "outputs": [],
   "source": []
  }
 ],
 "metadata": {
  "kernelspec": {
   "display_name": "venv",
   "language": "python",
   "name": "python3"
  },
  "language_info": {
   "codemirror_mode": {
    "name": "ipython",
    "version": 3
   },
   "file_extension": ".py",
   "mimetype": "text/x-python",
   "name": "python",
   "nbconvert_exporter": "python",
   "pygments_lexer": "ipython3",
   "version": "3.11.5"
  }
 },
 "nbformat": 4,
 "nbformat_minor": 2
}
